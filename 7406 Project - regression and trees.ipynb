{
 "cells": [
  {
   "cell_type": "code",
   "execution_count": 174,
   "id": "b95bf856",
   "metadata": {},
   "outputs": [],
   "source": [
    "import pandas as pd\n",
    "import numpy as np\n",
    "\n",
    "import statsmodels.api as sm\n",
    "\n",
    "from sklearn.feature_selection import SelectFromModel\n",
    "from sklearn.pipeline import Pipeline\n",
    "from sklearn.model_selection import train_test_split,GridSearchCV\n",
    "from sklearn.ensemble import RandomForestRegressor\n",
    "from xgboost import XGBRegressor\n",
    "from sklearn.metrics import mean_squared_error\n",
    "from sklearn.ensemble import AdaBoostRegressor\n",
    "\n",
    "from sklearn.ensemble import StackingRegressor\n",
    "from sklearn.ensemble import RandomForestRegressor, AdaBoostRegressor\n",
    "from sklearn.linear_model import LinearRegression"
   ]
  },
  {
   "cell_type": "code",
   "execution_count": 105,
   "id": "0c4c0ba9",
   "metadata": {},
   "outputs": [],
   "source": [
    "melbourne_data=pd.read_csv('cleaned_melbourne_housing.csv')"
   ]
  },
  {
   "cell_type": "code",
   "execution_count": 106,
   "id": "1c4c0d9d",
   "metadata": {},
   "outputs": [
    {
     "data": {
      "text/html": [
       "<div>\n",
       "<style scoped>\n",
       "    .dataframe tbody tr th:only-of-type {\n",
       "        vertical-align: middle;\n",
       "    }\n",
       "\n",
       "    .dataframe tbody tr th {\n",
       "        vertical-align: top;\n",
       "    }\n",
       "\n",
       "    .dataframe thead th {\n",
       "        text-align: right;\n",
       "    }\n",
       "</style>\n",
       "<table border=\"1\" class=\"dataframe\">\n",
       "  <thead>\n",
       "    <tr style=\"text-align: right;\">\n",
       "      <th></th>\n",
       "      <th>Suburb</th>\n",
       "      <th>Rooms</th>\n",
       "      <th>Type</th>\n",
       "      <th>Price</th>\n",
       "      <th>Distance</th>\n",
       "      <th>Postcode</th>\n",
       "      <th>Bathroom</th>\n",
       "      <th>Car</th>\n",
       "      <th>Landsize</th>\n",
       "      <th>Lattitude</th>\n",
       "      <th>Longtitude</th>\n",
       "      <th>Propertycount</th>\n",
       "      <th>log_price</th>\n",
       "      <th>Year</th>\n",
       "      <th>Month</th>\n",
       "    </tr>\n",
       "  </thead>\n",
       "  <tbody>\n",
       "    <tr>\n",
       "      <th>0</th>\n",
       "      <td>Abbotsford</td>\n",
       "      <td>2</td>\n",
       "      <td>h</td>\n",
       "      <td>1480000.0</td>\n",
       "      <td>2.5</td>\n",
       "      <td>3067</td>\n",
       "      <td>1.0</td>\n",
       "      <td>1.0</td>\n",
       "      <td>202.0</td>\n",
       "      <td>-37.7996</td>\n",
       "      <td>144.9984</td>\n",
       "      <td>4019.0</td>\n",
       "      <td>6.170262</td>\n",
       "      <td>2016</td>\n",
       "      <td>12</td>\n",
       "    </tr>\n",
       "    <tr>\n",
       "      <th>1</th>\n",
       "      <td>Abbotsford</td>\n",
       "      <td>2</td>\n",
       "      <td>h</td>\n",
       "      <td>1035000.0</td>\n",
       "      <td>2.5</td>\n",
       "      <td>3067</td>\n",
       "      <td>1.0</td>\n",
       "      <td>0.0</td>\n",
       "      <td>156.0</td>\n",
       "      <td>-37.8079</td>\n",
       "      <td>144.9934</td>\n",
       "      <td>4019.0</td>\n",
       "      <td>6.014940</td>\n",
       "      <td>2016</td>\n",
       "      <td>2</td>\n",
       "    </tr>\n",
       "    <tr>\n",
       "      <th>2</th>\n",
       "      <td>Abbotsford</td>\n",
       "      <td>3</td>\n",
       "      <td>h</td>\n",
       "      <td>1465000.0</td>\n",
       "      <td>2.5</td>\n",
       "      <td>3067</td>\n",
       "      <td>2.0</td>\n",
       "      <td>0.0</td>\n",
       "      <td>134.0</td>\n",
       "      <td>-37.8093</td>\n",
       "      <td>144.9944</td>\n",
       "      <td>4019.0</td>\n",
       "      <td>6.165838</td>\n",
       "      <td>2017</td>\n",
       "      <td>3</td>\n",
       "    </tr>\n",
       "    <tr>\n",
       "      <th>3</th>\n",
       "      <td>Abbotsford</td>\n",
       "      <td>3</td>\n",
       "      <td>h</td>\n",
       "      <td>850000.0</td>\n",
       "      <td>2.5</td>\n",
       "      <td>3067</td>\n",
       "      <td>2.0</td>\n",
       "      <td>1.0</td>\n",
       "      <td>94.0</td>\n",
       "      <td>-37.7969</td>\n",
       "      <td>144.9969</td>\n",
       "      <td>4019.0</td>\n",
       "      <td>5.929419</td>\n",
       "      <td>2017</td>\n",
       "      <td>3</td>\n",
       "    </tr>\n",
       "    <tr>\n",
       "      <th>4</th>\n",
       "      <td>Abbotsford</td>\n",
       "      <td>4</td>\n",
       "      <td>h</td>\n",
       "      <td>1600000.0</td>\n",
       "      <td>2.5</td>\n",
       "      <td>3067</td>\n",
       "      <td>1.0</td>\n",
       "      <td>2.0</td>\n",
       "      <td>120.0</td>\n",
       "      <td>-37.8072</td>\n",
       "      <td>144.9941</td>\n",
       "      <td>4019.0</td>\n",
       "      <td>6.204120</td>\n",
       "      <td>2016</td>\n",
       "      <td>6</td>\n",
       "    </tr>\n",
       "  </tbody>\n",
       "</table>\n",
       "</div>"
      ],
      "text/plain": [
       "       Suburb  Rooms Type      Price  Distance  Postcode  Bathroom  Car  \\\n",
       "0  Abbotsford      2    h  1480000.0       2.5      3067       1.0  1.0   \n",
       "1  Abbotsford      2    h  1035000.0       2.5      3067       1.0  0.0   \n",
       "2  Abbotsford      3    h  1465000.0       2.5      3067       2.0  0.0   \n",
       "3  Abbotsford      3    h   850000.0       2.5      3067       2.0  1.0   \n",
       "4  Abbotsford      4    h  1600000.0       2.5      3067       1.0  2.0   \n",
       "\n",
       "   Landsize  Lattitude  Longtitude  Propertycount  log_price  Year  Month  \n",
       "0     202.0   -37.7996    144.9984         4019.0   6.170262  2016     12  \n",
       "1     156.0   -37.8079    144.9934         4019.0   6.014940  2016      2  \n",
       "2     134.0   -37.8093    144.9944         4019.0   6.165838  2017      3  \n",
       "3      94.0   -37.7969    144.9969         4019.0   5.929419  2017      3  \n",
       "4     120.0   -37.8072    144.9941         4019.0   6.204120  2016      6  "
      ]
     },
     "execution_count": 106,
     "metadata": {},
     "output_type": "execute_result"
    }
   ],
   "source": [
    "#extract year and day from date to capture time related patterns\n",
    "melbourne_data['Date'] = pd.to_datetime(melbourne_data['Date'], format='%d/%m/%Y')\n",
    "\n",
    "# Extract year and month as new columns\n",
    "melbourne_data['Year'] = melbourne_data['Date'].dt.year\n",
    "melbourne_data['Month'] = melbourne_data['Date'].dt.month\n",
    "\n",
    "# Drop the original 'Date' column as it's no longer needed\n",
    "melbourne_data = melbourne_data.drop(columns=['Date'])\n",
    "\n",
    "# Display the updated dataset\n",
    "melbourne_data.head()"
   ]
  },
  {
   "cell_type": "code",
   "execution_count": 108,
   "id": "28992070",
   "metadata": {},
   "outputs": [],
   "source": [
    "# Perform one-hot encoding for categorical variables\n",
    "df_encoded = pd.get_dummies(melbourne_data, columns=['Suburb', 'Type'], drop_first=True)"
   ]
  },
  {
   "cell_type": "code",
   "execution_count": 109,
   "id": "81509869",
   "metadata": {},
   "outputs": [],
   "source": [
    "# Define the target variable (log_price) and features (drop Price and log_price)\n",
    "X = df_encoded.drop(columns=['Price', 'log_price'])\n",
    "#set target as log_price\n",
    "y = df_encoded['log_price']"
   ]
  },
  {
   "cell_type": "code",
   "execution_count": 110,
   "id": "6a3d7b44",
   "metadata": {},
   "outputs": [],
   "source": [
    "# Split the data into training and test sets (80% train, 20% test)\n",
    "X_train, X_test, y_train, y_test = train_test_split(X, y, test_size=0.2, random_state=42)\n",
    "\n"
   ]
  },
  {
   "cell_type": "markdown",
   "id": "e33fbede",
   "metadata": {},
   "source": [
    "### MLR"
   ]
  },
  {
   "cell_type": "markdown",
   "id": "ca6ab5af",
   "metadata": {},
   "source": [
    "### Baseline model (MLR with all features)"
   ]
  },
  {
   "cell_type": "code",
   "execution_count": 111,
   "id": "da22cbe5",
   "metadata": {},
   "outputs": [
    {
     "name": "stderr",
     "output_type": "stream",
     "text": [
      "/Users/yuht/opt/anaconda3/lib/python3.9/site-packages/statsmodels/tsa/tsatools.py:142: FutureWarning: In a future version of pandas all arguments of concat except for the argument 'objs' will be keyword-only\n",
      "  x = pd.concat(x[::order], 1)\n"
     ]
    }
   ],
   "source": [
    "# Add a constant term for the intercept in statsmodels\n",
    "X_train_const = sm.add_constant(X_train)"
   ]
  },
  {
   "cell_type": "code",
   "execution_count": 112,
   "id": "a1bd541e",
   "metadata": {},
   "outputs": [
    {
     "name": "stdout",
     "output_type": "stream",
     "text": [
      "                            OLS Regression Results                            \n",
      "==============================================================================\n",
      "Dep. Variable:              log_price   R-squared:                       0.777\n",
      "Model:                            OLS   Adj. R-squared:                  0.773\n",
      "Method:                 Least Squares   F-statistic:                     194.8\n",
      "Date:                Fri, 25 Oct 2024   Prob (F-statistic):               0.00\n",
      "Time:                        17:36:27   Log-Likelihood:                 15582.\n",
      "No. Observations:               17383   AIC:                        -3.055e+04\n",
      "Df Residuals:                   17076   BIC:                        -2.817e+04\n",
      "Df Model:                         306                                         \n",
      "Covariance Type:            nonrobust                                         \n",
      "=============================================================================================\n",
      "                                coef    std err          t      P>|t|      [0.025      0.975]\n",
      "---------------------------------------------------------------------------------------------\n",
      "const                       -22.3877      1.392    -16.078      0.000     -25.117     -19.658\n",
      "Rooms                         0.0808      0.001     60.621      0.000       0.078       0.083\n",
      "Distance                     -0.0043      0.002     -2.723      0.006      -0.007      -0.001\n",
      "Postcode                     -0.0122      0.001    -15.519      0.000      -0.014      -0.011\n",
      "Bathroom                      0.0193      0.002     11.729      0.000       0.016       0.022\n",
      "Car                           0.0137      0.001     12.750      0.000       0.012       0.016\n",
      "Landsize                   1.396e-05    1.7e-06      8.192      0.000    1.06e-05    1.73e-05\n",
      "Lattitude                     0.0013      0.001      2.151      0.031       0.000       0.002\n",
      "Longtitude                -4.585e-05      0.000     -0.166      0.868      -0.001       0.000\n",
      "Propertycount              1.232e-05   1.06e-06     11.667      0.000    1.03e-05    1.44e-05\n",
      "Year                          0.0325      0.002     17.303      0.000       0.029       0.036\n",
      "Month                         0.0029      0.000      9.210      0.000       0.002       0.004\n",
      "Suburb_Aberfeldie            -0.3232      0.033     -9.866      0.000      -0.387      -0.259\n",
      "Suburb_Airport West          -0.4503      0.035    -13.025      0.000      -0.518      -0.383\n",
      "Suburb_Albanvale             -0.8818      0.060    -14.621      0.000      -1.000      -0.764\n",
      "Suburb_Albert Park            1.8766      0.110     16.983      0.000       1.660       2.093\n",
      "Suburb_Albion                -0.7908      0.050    -15.699      0.000      -0.890      -0.692\n",
      "Suburb_Alphington             0.1694      0.023      7.530      0.000       0.125       0.214\n",
      "Suburb_Altona                -0.7040      0.052    -13.505      0.000      -0.806      -0.602\n",
      "Suburb_Altona Meadows        -0.8053      0.054    -14.926      0.000      -0.911      -0.700\n",
      "Suburb_Altona North          -0.7240      0.045    -16.243      0.000      -0.811      -0.637\n",
      "Suburb_Ardeer                -0.8282      0.054    -15.308      0.000      -0.934      -0.722\n",
      "Suburb_Armadale               1.0019      0.058     17.350      0.000       0.889       1.115\n",
      "Suburb_Ascot Vale            -0.5155      0.034    -15.189      0.000      -0.582      -0.449\n",
      "Suburb_Ashburton              1.0892      0.059     18.332      0.000       0.973       1.206\n",
      "Suburb_Ashwood                0.9884      0.059     16.736      0.000       0.873       1.104\n",
      "Suburb_Aspendale              1.5076      0.090     16.842      0.000       1.332       1.683\n",
      "Suburb_Aspendale Gardens      1.4240      0.091     15.616      0.000       1.245       1.603\n",
      "Suburb_Attwood               -0.5279      0.050    -10.622      0.000      -0.625      -0.430\n",
      "Suburb_Avondale Heights      -0.5895      0.038    -15.658      0.000      -0.663      -0.516\n",
      "Suburb_Balaclava              1.4179      0.090     15.754      0.000       1.242       1.594\n",
      "Suburb_Balwyn                 0.5426      0.027     20.342      0.000       0.490       0.595\n",
      "Suburb_Balwyn North           0.4943      0.025     20.028      0.000       0.446       0.543\n",
      "Suburb_Bayswater              0.8711      0.058     14.936      0.000       0.757       0.985\n",
      "Suburb_Bayswater North        0.8475      0.063     13.471      0.000       0.724       0.971\n",
      "Suburb_Beaumaris              1.5988      0.087     18.419      0.000       1.429       1.769\n",
      "Suburb_Bellfield              0.0718      0.028      2.557      0.011       0.017       0.127\n",
      "Suburb_Bentleigh              1.6665      0.098     16.980      0.000       1.474       1.859\n",
      "Suburb_Bentleigh East         1.0960      0.064     17.101      0.000       0.970       1.222\n",
      "Suburb_Black Rock             1.6653      0.090     18.401      0.000       1.488       1.843\n",
      "Suburb_Blackburn              0.7555      0.043     17.436      0.000       0.671       0.840\n",
      "Suburb_Blackburn North        0.7132      0.047     15.116      0.000       0.621       0.806\n",
      "Suburb_Blackburn South        0.7062      0.046     15.436      0.000       0.617       0.796\n",
      "Suburb_Bonbeach               1.4912      0.093     16.080      0.000       1.309       1.673\n",
      "Suburb_Boronia                0.8343      0.054     15.487      0.000       0.729       0.940\n",
      "Suburb_Box Hill               0.7697      0.044     17.563      0.000       0.684       0.856\n",
      "Suburb_Braybrook             -0.8155      0.048    -16.838      0.000      -0.910      -0.721\n",
      "Suburb_Briar Hill             0.1604      0.034      4.698      0.000       0.093       0.227\n",
      "Suburb_Brighton               1.5482      0.083     18.667      0.000       1.386       1.711\n",
      "Suburb_Brighton East          1.5165      0.086     17.545      0.000       1.347       1.686\n",
      "Suburb_Broadmeadows          -0.5752      0.036    -16.185      0.000      -0.645      -0.506\n",
      "Suburb_Brookfield             2.8597      0.215     13.306      0.000       2.438       3.281\n",
      "Suburb_Brooklyn              -0.8163      0.056    -14.581      0.000      -0.926      -0.707\n",
      "Suburb_Brunswick             -0.2822      0.018    -15.336      0.000      -0.318      -0.246\n",
      "Suburb_Brunswick East        -0.1754      0.018     -9.675      0.000      -0.211      -0.140\n",
      "Suburb_Brunswick West        -0.2823      0.019    -14.616      0.000      -0.320      -0.244\n",
      "Suburb_Bulleen                0.4041      0.028     14.348      0.000       0.349       0.459\n",
      "Suburb_Bundoora              -0.1195      0.016     -7.596      0.000      -0.150      -0.089\n",
      "Suburb_Burnley                0.7307      0.058     12.616      0.000       0.617       0.844\n",
      "Suburb_Burnside              -0.8478      0.067    -12.627      0.000      -0.979      -0.716\n",
      "Suburb_Burnside Heights      -0.8586      0.064    -13.313      0.000      -0.985      -0.732\n",
      "Suburb_Burwood                0.6878      0.040     17.004      0.000       0.609       0.767\n",
      "Suburb_Burwood East           0.9568      0.060     16.080      0.000       0.840       1.073\n",
      "Suburb_Cairnlea              -0.8172      0.057    -14.230      0.000      -0.930      -0.705\n",
      "Suburb_Camberwell             0.7312      0.039     18.842      0.000       0.655       0.807\n",
      "Suburb_Campbellfield         -0.4128      0.043     -9.606      0.000      -0.497      -0.329\n",
      "Suburb_Canterbury             0.8897      0.046     19.535      0.000       0.800       0.979\n",
      "Suburb_Carlton               -0.1857      0.021     -8.901      0.000      -0.227      -0.145\n",
      "Suburb_Carlton North         -0.0699      0.021     -3.286      0.001      -0.112      -0.028\n",
      "Suburb_Carnegie               1.1242      0.067     16.742      0.000       0.993       1.256\n",
      "Suburb_Caroline Springs      -0.9321      0.056    -16.551      0.000      -1.042      -0.822\n",
      "Suburb_Carrum                 1.5690      0.089     17.696      0.000       1.395       1.743\n",
      "Suburb_Caulfield              1.0651      0.077     13.846      0.000       0.914       1.216\n",
      "Suburb_Caulfield East         0.9447      0.065     14.514      0.000       0.817       1.072\n",
      "Suburb_Caulfield North        1.1175      0.069     16.119      0.000       0.982       1.253\n",
      "Suburb_Caulfield South        1.1763      0.070     16.695      0.000       1.038       1.314\n",
      "Suburb_Chadstone              0.9321      0.059     15.826      0.000       0.817       1.048\n",
      "Suburb_Chelsea                1.5585      0.086     18.066      0.000       1.389       1.728\n",
      "Suburb_Chelsea Heights        1.4253      0.090     15.856      0.000       1.249       1.602\n",
      "Suburb_Cheltenham             1.4050      0.082     17.122      0.000       1.244       1.566\n",
      "Suburb_Chirnside Park         0.3956      0.052      7.630      0.000       0.294       0.497\n",
      "Suburb_Clarinda               1.1013      0.076     14.554      0.000       0.953       1.250\n",
      "Suburb_Clayton                1.1919      0.071     16.871      0.000       1.053       1.330\n",
      "Suburb_Clayton South          1.1141      0.071     15.649      0.000       0.975       1.254\n",
      "Suburb_Clifton Hill           0.0264      0.016      1.632      0.103      -0.005       0.058\n",
      "Suburb_Coburg                -0.3107      0.019    -16.504      0.000      -0.348      -0.274\n",
      "Suburb_Coburg North          -0.2786      0.021    -12.982      0.000      -0.321      -0.237\n",
      "Suburb_Collingwood            0.0085      0.017      0.508      0.612      -0.024       0.041\n",
      "Suburb_Coolaroo              -0.5990      0.058    -10.388      0.000      -0.712      -0.486\n",
      "Suburb_Craigieburn           -0.5443      0.034    -16.213      0.000      -0.610      -0.478\n",
      "Suburb_Cremorne               0.6894      0.049     13.989      0.000       0.593       0.786\n",
      "Suburb_Croydon                0.5913      0.039     15.113      0.000       0.515       0.668\n",
      "Suburb_Croydon Hills          0.7096      0.058     12.272      0.000       0.596       0.823\n",
      "Suburb_Croydon North          0.6964      0.052     13.370      0.000       0.594       0.798\n",
      "Suburb_Croydon South          0.7281      0.058     12.648      0.000       0.615       0.841\n",
      "Suburb_Dallas                -0.6443      0.040    -16.236      0.000      -0.722      -0.566\n",
      "Suburb_Dandenong              1.0416      0.067     15.633      0.000       0.911       1.172\n",
      "Suburb_Dandenong North        1.0196      0.069     14.867      0.000       0.885       1.154\n",
      "Suburb_Deepdene               0.5272      0.064      8.219      0.000       0.401       0.653\n",
      "Suburb_Deer Park             -0.8873      0.055    -16.180      0.000      -0.995      -0.780\n",
      "Suburb_Delahey               -0.7026      0.054    -13.046      0.000      -0.808      -0.597\n",
      "Suburb_Derrimut              -0.7173      0.059    -12.215      0.000      -0.832      -0.602\n",
      "Suburb_Diamond Creek          0.0849      0.034      2.469      0.014       0.017       0.152\n",
      "Suburb_Diggers Rest           4.0615      0.265     15.351      0.000       3.543       4.580\n",
      "Suburb_Dingley Village        1.1530      0.070     16.377      0.000       1.015       1.291\n",
      "Suburb_Docklands             -0.8235      0.074    -11.079      0.000      -0.969      -0.678\n",
      "Suburb_Doncaster              0.4207      0.025     16.606      0.000       0.371       0.470\n",
      "Suburb_Doncaster East         0.4011      0.025     16.202      0.000       0.353       0.450\n",
      "Suburb_Donvale                0.4439      0.035     12.828      0.000       0.376       0.512\n",
      "Suburb_Doreen                 7.9961      0.516     15.503      0.000       6.985       9.007\n",
      "Suburb_Doveton                1.0790      0.076     14.219      0.000       0.930       1.228\n",
      "Suburb_Eaglemont              0.3157      0.026     12.357      0.000       0.266       0.366\n",
      "Suburb_East Melbourne        -0.6632      0.055    -12.154      0.000      -0.770      -0.556\n",
      "Suburb_Edithvale              1.5314      0.088     17.492      0.000       1.360       1.703\n",
      "Suburb_Elsternwick            1.4876      0.089     16.761      0.000       1.314       1.662\n",
      "Suburb_Eltham                 0.1849      0.025      7.310      0.000       0.135       0.234\n",
      "Suburb_Eltham North           0.1807      0.037      4.882      0.000       0.108       0.253\n",
      "Suburb_Elwood                 1.4242      0.085     16.701      0.000       1.257       1.591\n",
      "Suburb_Endeavour Hills        8.6580      0.551     15.725      0.000       7.579       9.737\n",
      "Suburb_Epping                -0.2786      0.026    -10.796      0.000      -0.329      -0.228\n",
      "Suburb_Essendon              -0.4210      0.031    -13.472      0.000      -0.482      -0.360\n",
      "Suburb_Essendon North        -0.3783      0.035    -10.843      0.000      -0.447      -0.310\n",
      "Suburb_Essendon West         -0.3489      0.036     -9.826      0.000      -0.418      -0.279\n",
      "Suburb_Eumemmerring           1.0965      0.123      8.927      0.000       0.856       1.337\n",
      "Suburb_Eynesbury              3.0480      0.216     14.137      0.000       2.625       3.471\n",
      "Suburb_Fairfield              0.1458      0.020      7.254      0.000       0.106       0.185\n",
      "Suburb_Fawkner               -0.3368      0.024    -13.877      0.000      -0.384      -0.289\n",
      "Suburb_Ferntree Gully         0.8552      0.053     16.068      0.000       0.751       0.960\n",
      "Suburb_Ferny Creek         1.612e-12   1.19e-12      1.354      0.176   -7.22e-13    3.95e-12\n",
      "Suburb_Fitzroy                0.0070      0.016      0.436      0.663      -0.024       0.038\n",
      "Suburb_Fitzroy North          0.0353      0.014      2.551      0.011       0.008       0.062\n",
      "Suburb_Flemington            -0.5059      0.034    -14.781      0.000      -0.573      -0.439\n",
      "Suburb_Footscray             -0.8875      0.051    -17.505      0.000      -0.987      -0.788\n",
      "Suburb_Forest Hill            0.7015      0.045     15.685      0.000       0.614       0.789\n",
      "Suburb_Gardenvale             1.4413      0.098     14.689      0.000       1.249       1.634\n",
      "Suburb_Gladstone Park        -0.6071      0.037    -16.281      0.000      -0.680      -0.534\n",
      "Suburb_Glen Huntly            1.1451      0.073     15.717      0.000       1.002       1.288\n",
      "Suburb_Glen Iris              0.9618      0.054     17.771      0.000       0.856       1.068\n",
      "Suburb_Glen Waverley          0.8922      0.048     18.779      0.000       0.799       0.985\n",
      "Suburb_Glenroy               -0.5474      0.032    -17.187      0.000      -0.610      -0.485\n",
      "Suburb_Gowanbrae             -0.5339      0.039    -13.768      0.000      -0.610      -0.458\n",
      "Suburb_Greensborough          0.0432      0.020      2.176      0.030       0.004       0.082\n",
      "Suburb_Greenvale             -0.3954      0.037    -10.658      0.000      -0.468      -0.323\n",
      "Suburb_Hadfield              -0.4767      0.032    -14.807      0.000      -0.540      -0.414\n",
      "Suburb_Hampton                1.5974      0.086     18.628      0.000       1.429       1.766\n",
      "Suburb_Hampton East           1.4975      0.088     16.949      0.000       1.324       1.671\n",
      "Suburb_Hawthorn               0.6190      0.038     16.303      0.000       0.545       0.693\n",
      "Suburb_Hawthorn East          0.7204      0.041     17.607      0.000       0.640       0.801\n",
      "Suburb_Heatherton             1.5868      0.118     13.421      0.000       1.355       1.819\n",
      "Suburb_Heathmont              0.7178      0.047     15.380      0.000       0.626       0.809\n",
      "Suburb_Heidelberg             0.1562      0.022      7.212      0.000       0.114       0.199\n",
      "Suburb_Heidelberg Heights     0.0198      0.019      1.027      0.304      -0.018       0.058\n",
      "Suburb_Heidelberg West       -0.0443      0.019     -2.290      0.022      -0.082      -0.006\n",
      "Suburb_Highett                1.5025      0.086     17.518      0.000       1.334       1.671\n",
      "Suburb_Hillside              -0.7230      0.048    -15.180      0.000      -0.816      -0.630\n",
      "Suburb_Hoppers Crossing      -0.9392      0.055    -17.153      0.000      -1.047      -0.832\n",
      "Suburb_Hughesdale             1.2086      0.073     16.654      0.000       1.066       1.351\n",
      "Suburb_Huntingdale            1.1419      0.078     14.595      0.000       0.989       1.295\n",
      "Suburb_Hurstbridge            0.1229      0.078      1.580      0.114      -0.030       0.275\n",
      "Suburb_Ivanhoe                0.1366      0.016      8.603      0.000       0.105       0.168\n",
      "Suburb_Ivanhoe East           0.2831      0.025     11.421      0.000       0.235       0.332\n",
      "Suburb_Jacana                -0.5405      0.036    -14.907      0.000      -0.612      -0.469\n",
      "Suburb_Kalkallo           -2.934e-12   2.17e-12     -1.354      0.176   -7.18e-12    1.31e-12\n",
      "Suburb_Kealba                -0.8830      0.054    -16.210      0.000      -0.990      -0.776\n",
      "Suburb_Keilor                -0.5637      0.047    -12.019      0.000      -0.656      -0.472\n",
      "Suburb_Keilor Downs          -0.6545      0.045    -14.386      0.000      -0.744      -0.565\n",
      "Suburb_Keilor East           -0.6107      0.041    -15.043      0.000      -0.690      -0.531\n",
      "Suburb_Keilor Lodge          -0.5529      0.064     -8.627      0.000      -0.679      -0.427\n",
      "Suburb_Keilor Park           -0.5211      0.039    -13.402      0.000      -0.597      -0.445\n",
      "Suburb_Kensington            -0.5105      0.033    -15.352      0.000      -0.576      -0.445\n",
      "Suburb_Kew                    0.4134      0.023     17.811      0.000       0.368       0.459\n",
      "Suburb_Kew East               0.5523      0.030     18.173      0.000       0.493       0.612\n",
      "Suburb_Keysborough            1.0771      0.068     15.802      0.000       0.943       1.211\n",
      "Suburb_Kilsyth                0.6674      0.051     12.969      0.000       0.567       0.768\n",
      "Suburb_Kings Park            -0.9087      0.057    -15.944      0.000      -1.020      -0.797\n",
      "Suburb_Kingsbury              0.0379      0.027      1.380      0.168      -0.016       0.092\n",
      "Suburb_Kingsville            -0.7505      0.051    -14.701      0.000      -0.851      -0.650\n",
      "Suburb_Knoxfield              1.1924      0.081     14.800      0.000       1.034       1.350\n",
      "Suburb_Kooyong                1.1108      0.079     14.082      0.000       0.956       1.265\n",
      "Suburb_Lalor                 -0.2242      0.023     -9.598      0.000      -0.270      -0.178\n",
      "Suburb_Laverton              -0.8038      0.065    -12.324      0.000      -0.932      -0.676\n",
      "Suburb_Lilydale               0.6379      0.063     10.134      0.000       0.515       0.761\n",
      "Suburb_Lower Plenty           0.2045      0.037      5.452      0.000       0.131       0.278\n",
      "Suburb_Lysterfield            0.9157      0.115      7.968      0.000       0.690       1.141\n",
      "Suburb_MacLeod                0.1254      0.024      5.337      0.000       0.079       0.172\n",
      "Suburb_Maidstone             -0.8668      0.051    -17.047      0.000      -0.966      -0.767\n",
      "Suburb_Malvern                1.0327      0.059     17.567      0.000       0.917       1.148\n",
      "Suburb_Malvern East           0.9676      0.053     18.174      0.000       0.863       1.072\n",
      "Suburb_Maribyrnong           -0.5879      0.035    -16.677      0.000      -0.657      -0.519\n",
      "Suburb_McKinnon               1.7792      0.103     17.234      0.000       1.577       1.982\n",
      "Suburb_Meadow Heights        -0.6123      0.041    -15.077      0.000      -0.692      -0.533\n",
      "Suburb_Melbourne             -0.9782      0.061    -15.944      0.000      -1.098      -0.858\n",
      "Suburb_Melton South           2.8702      0.190     15.121      0.000       2.498       3.242\n",
      "Suburb_Mentone                1.4854      0.085     17.448      0.000       1.319       1.652\n",
      "Suburb_Mernda                 8.0258      0.516     15.540      0.000       7.013       9.038\n",
      "Suburb_Mickleham             -0.4275      0.105     -4.082      0.000      -0.633      -0.222\n",
      "Suburb_Middle Park            1.8897      0.111     16.981      0.000       1.672       2.108\n",
      "Suburb_Mill Park             -0.1846      0.021     -8.592      0.000      -0.227      -0.142\n",
      "Suburb_Mitcham                0.6929      0.042     16.663      0.000       0.611       0.774\n",
      "Suburb_Mont Albert            0.8412      0.046     18.383      0.000       0.752       0.931\n",
      "Suburb_Montmorency            0.2015      0.027      7.582      0.000       0.149       0.254\n",
      "Suburb_Montrose               8.2711      0.534     15.494      0.000       7.225       9.317\n",
      "Suburb_Moonee Ponds          -0.4008      0.030    -13.302      0.000      -0.460      -0.342\n",
      "Suburb_Moorabbin              1.4562      0.089     16.437      0.000       1.283       1.630\n",
      "Suburb_Mooroolbark            0.6064      0.045     13.458      0.000       0.518       0.695\n",
      "Suburb_Mordialloc             1.5379      0.088     17.569      0.000       1.366       1.709\n",
      "Suburb_Mount Evelyn           8.6283      0.549     15.721      0.000       7.552       9.704\n",
      "Suburb_Mount Waverley         0.9016      0.050     18.187      0.000       0.804       0.999\n",
      "Suburb_Mulgrave               1.0556      0.068     15.596      0.000       0.923       1.188\n",
      "Suburb_Murrumbeena            1.1594      0.069     16.707      0.000       1.023       1.295\n",
      "Suburb_Newport               -0.7407      0.049    -15.267      0.000      -0.836      -0.646\n",
      "Suburb_Niddrie               -0.3360      0.033    -10.196      0.000      -0.401      -0.271\n",
      "Suburb_Noble Park             1.0373      0.066     15.694      0.000       0.908       1.167\n",
      "Suburb_North Melbourne       -0.2362      0.021    -11.500      0.000      -0.276      -0.196\n",
      "Suburb_North Warrandyte       0.4356      0.067      6.530      0.000       0.305       0.566\n",
      "Suburb_Northcote             -0.0387      0.011     -3.442      0.001      -0.061      -0.017\n",
      "Suburb_Notting Hill           1.2110      0.078     15.484      0.000       1.058       1.364\n",
      "Suburb_Nunawading             0.7114      0.044     16.079      0.000       0.625       0.798\n",
      "Suburb_Oak Park              -0.3694      0.031    -11.754      0.000      -0.431      -0.308\n",
      "Suburb_Oakleigh               1.1653      0.072     16.225      0.000       1.024       1.306\n",
      "Suburb_Oakleigh East          1.1805      0.074     15.883      0.000       1.035       1.326\n",
      "Suburb_Oakleigh South         1.1475      0.071     16.261      0.000       1.009       1.286\n",
      "Suburb_Ormond                 1.6966      0.101     16.749      0.000       1.498       1.895\n",
      "Suburb_Parkdale               1.5473      0.086     18.009      0.000       1.379       1.716\n",
      "Suburb_Parkville             -0.0904      0.025     -3.681      0.000      -0.139      -0.042\n",
      "Suburb_Pascoe Vale           -0.4832      0.030    -16.270      0.000      -0.541      -0.425\n",
      "Suburb_Patterson Lakes        1.4160      0.101     13.974      0.000       1.217       1.615\n",
      "Suburb_Plenty                 0.2783      0.103      2.704      0.007       0.077       0.480\n",
      "Suburb_Plumpton               2.9183      0.202     14.478      0.000       2.523       3.313\n",
      "Suburb_Point Cook            -0.9373      0.051    -18.353      0.000      -1.037      -0.837\n",
      "Suburb_Port Melbourne         1.7332      0.107     16.218      0.000       1.524       1.943\n",
      "Suburb_Prahran                1.3958      0.086     16.172      0.000       1.227       1.565\n",
      "Suburb_Preston               -0.1868      0.012    -15.518      0.000      -0.210      -0.163\n",
      "Suburb_Princes Hill          -0.0778      0.037     -2.092      0.036      -0.151      -0.005\n",
      "Suburb_Research               0.2234      0.063      3.556      0.000       0.100       0.347\n",
      "Suburb_Richmond               0.5288      0.038     14.050      0.000       0.455       0.603\n",
      "Suburb_Ringwood               0.6861      0.043     16.127      0.000       0.603       0.769\n",
      "Suburb_Ringwood East          0.7317      0.047     15.566      0.000       0.640       0.824\n",
      "Suburb_Ringwood North         0.6759      0.049     13.917      0.000       0.581       0.771\n",
      "Suburb_Ripponlea              1.4560      0.095     15.306      0.000       1.270       1.642\n",
      "Suburb_Rockbank               3.0177      0.200     15.088      0.000       2.626       3.410\n",
      "Suburb_Rosanna                0.1288      0.020      6.551      0.000       0.090       0.167\n",
      "Suburb_Rowville               1.0563      0.070     15.060      0.000       0.919       1.194\n",
      "Suburb_Roxburgh Park         -0.4405      0.035    -12.566      0.000      -0.509      -0.372\n",
      "Suburb_Sandringham            1.5948      0.087     18.239      0.000       1.423       1.766\n",
      "Suburb_Scoresby               1.2321      0.082     15.013      0.000       1.071       1.393\n",
      "Suburb_Seabrook              -0.7824      0.069    -11.389      0.000      -0.917      -0.648\n",
      "Suburb_Seaholme              -0.6832      0.058    -11.757      0.000      -0.797      -0.569\n",
      "Suburb_Seddon                -0.7299      0.050    -14.730      0.000      -0.827      -0.633\n",
      "Suburb_South Kingsville      -0.7349      0.051    -14.448      0.000      -0.835      -0.635\n",
      "Suburb_South Melbourne        1.7196      0.108     15.850      0.000       1.507       1.932\n",
      "Suburb_South Morang           7.9912      0.518     15.413      0.000       6.975       9.007\n",
      "Suburb_South Yarra            0.8425      0.052     16.058      0.000       0.740       0.945\n",
      "Suburb_Southbank             -0.8235      0.052    -15.832      0.000      -0.925      -0.722\n",
      "Suburb_Spotswood             -0.7149      0.049    -14.624      0.000      -0.811      -0.619\n",
      "Suburb_Springvale             1.0930      0.069     15.839      0.000       0.958       1.228\n",
      "Suburb_Springvale South       1.1057      0.078     14.148      0.000       0.953       1.259\n",
      "Suburb_St Albans             -0.9585      0.056    -17.073      0.000      -1.069      -0.848\n",
      "Suburb_St Helena              0.0867      0.040      2.151      0.032       0.008       0.166\n",
      "Suburb_St Kilda               1.2800      0.083     15.475      0.000       1.118       1.442\n",
      "Suburb_Strathmore            -0.3572      0.031    -11.403      0.000      -0.419      -0.296\n",
      "Suburb_Strathmore Heights    -0.4327      0.043     -9.961      0.000      -0.518      -0.348\n",
      "Suburb_Sunshine              -0.7664      0.049    -15.661      0.000      -0.862      -0.670\n",
      "Suburb_Sunshine North        -0.8482      0.050    -16.932      0.000      -0.946      -0.750\n",
      "Suburb_Sunshine West         -0.9117      0.050    -18.109      0.000      -1.010      -0.813\n",
      "Suburb_Surrey Hills           0.8210      0.042     19.524      0.000       0.739       0.903\n",
      "Suburb_Sydenham              -0.6760      0.054    -12.537      0.000      -0.782      -0.570\n",
      "Suburb_Tarneit               -0.9089      0.056    -16.140      0.000      -1.019      -0.799\n",
      "Suburb_Taylors Hill          -0.6946      0.050    -14.033      0.000      -0.792      -0.598\n",
      "Suburb_Taylors Lakes         -0.6490      0.044    -14.711      0.000      -0.735      -0.563\n",
      "Suburb_Tecoma                 0.9933      0.117      8.501      0.000       0.764       1.222\n",
      "Suburb_Templestowe            0.4236      0.028     15.078      0.000       0.369       0.479\n",
      "Suburb_Templestowe Lower      0.4115      0.028     14.656      0.000       0.356       0.467\n",
      "Suburb_The Basin              0.8081      0.081      9.974      0.000       0.649       0.967\n",
      "Suburb_Thomastown            -0.2150      0.023     -9.148      0.000      -0.261      -0.169\n",
      "Suburb_Thornbury             -0.0453      0.012     -3.646      0.000      -0.070      -0.021\n",
      "Suburb_Toorak                 0.9867      0.057     17.306      0.000       0.875       1.098\n",
      "Suburb_Travancore            -0.4285      0.043     -9.895      0.000      -0.513      -0.344\n",
      "Suburb_Truganina             -0.8333      0.059    -14.131      0.000      -0.949      -0.718\n",
      "Suburb_Tullamarine           -0.5346      0.039    -13.780      0.000      -0.611      -0.459\n",
      "Suburb_Upwey                  0.9369      0.092     10.223      0.000       0.757       1.116\n",
      "Suburb_Vermont                0.7183      0.047     15.132      0.000       0.625       0.811\n",
      "Suburb_Vermont South          0.7078      0.047     14.940      0.000       0.615       0.801\n",
      "Suburb_Viewbank               0.0745      0.023      3.310      0.001       0.030       0.119\n",
      "Suburb_Wantirna               0.8538      0.059     14.421      0.000       0.738       0.970\n",
      "Suburb_Wantirna South         0.8729      0.058     15.164      0.000       0.760       0.986\n",
      "Suburb_Warrandyte             0.4609      0.048      9.548      0.000       0.366       0.556\n",
      "Suburb_Warranwood             0.6068      0.109      5.561      0.000       0.393       0.821\n",
      "Suburb_Waterways              1.4451      0.113     12.807      0.000       1.224       1.666\n",
      "Suburb_Watsonia               0.1035      0.024      4.262      0.000       0.056       0.151\n",
      "Suburb_Watsonia North         0.0440      0.032      1.375      0.169      -0.019       0.107\n",
      "Suburb_Wattle Glen            0.1617      0.104      1.554      0.120      -0.042       0.366\n",
      "Suburb_Werribee              -0.9819      0.051    -19.410      0.000      -1.081      -0.883\n",
      "Suburb_Werribee South        -0.8301      0.109     -7.601      0.000      -1.044      -0.616\n",
      "Suburb_West Footscray        -0.8613      0.051    -16.971      0.000      -0.961      -0.762\n",
      "Suburb_West Melbourne        -0.7317      0.053    -13.766      0.000      -0.836      -0.627\n",
      "Suburb_Westmeadows           -0.5091      0.040    -12.805      0.000      -0.587      -0.431\n",
      "Suburb_Wheelers Hill          0.8766      0.054     16.112      0.000       0.770       0.983\n",
      "Suburb_Williams Landing      -0.8121      0.063    -12.805      0.000      -0.936      -0.688\n",
      "Suburb_Williamstown          -0.6429      0.048    -13.326      0.000      -0.738      -0.548\n",
      "Suburb_Williamstown North    -0.6887      0.055    -12.601      0.000      -0.796      -0.582\n",
      "Suburb_Windsor                1.4157      0.089     15.944      0.000       1.242       1.590\n",
      "Suburb_Wollert                8.0115      0.515     15.544      0.000       7.001       9.022\n",
      "Suburb_Wonga Park             0.5799      0.079      7.330      0.000       0.425       0.735\n",
      "Suburb_Wyndham Vale          -0.9135      0.069    -13.296      0.000      -1.048      -0.779\n",
      "Suburb_Yallambie              0.0664      0.027      2.430      0.015       0.013       0.120\n",
      "Suburb_Yarra Glen             8.4406      0.540     15.631      0.000       7.382       9.499\n",
      "Suburb_Yarraville            -0.7821      0.049    -15.814      0.000      -0.879      -0.685\n",
      "Suburb_croydon                0.5635      0.105      5.351      0.000       0.357       0.770\n",
      "Type_t                       -0.0910      0.003    -32.883      0.000      -0.096      -0.086\n",
      "Type_u                       -0.2335      0.002    -94.598      0.000      -0.238      -0.229\n",
      "==============================================================================\n",
      "Omnibus:                      970.144   Durbin-Watson:                   1.991\n",
      "Prob(Omnibus):                  0.000   Jarque-Bera (JB):             3960.768\n",
      "Skew:                          -0.075   Prob(JB):                         0.00\n",
      "Kurtosis:                       5.334   Cond. No.                     2.56e+20\n",
      "==============================================================================\n",
      "\n",
      "Notes:\n",
      "[1] Standard Errors assume that the covariance matrix of the errors is correctly specified.\n",
      "[2] The smallest eigenvalue is 2.04e-29. This might indicate that there are\n",
      "strong multicollinearity problems or that the design matrix is singular.\n"
     ]
    }
   ],
   "source": [
    "baseline_model = sm.OLS(y_train, X_train_const).fit()\n",
    "print(baseline_model.summary())"
   ]
  },
  {
   "cell_type": "code",
   "execution_count": 113,
   "id": "c89ed726",
   "metadata": {},
   "outputs": [
    {
     "name": "stderr",
     "output_type": "stream",
     "text": [
      "/Users/yuht/opt/anaconda3/lib/python3.9/site-packages/statsmodels/tsa/tsatools.py:142: FutureWarning: In a future version of pandas all arguments of concat except for the argument 'objs' will be keyword-only\n",
      "  x = pd.concat(x[::order], 1)\n"
     ]
    }
   ],
   "source": [
    "# Baseline Model Prediction and MSE Calculation\n",
    "X_test_const = sm.add_constant(X_test)\n",
    "baseline_predictions = baseline_model.predict(X_test_const)\n",
    "\n",
    "y_test_original = np.exp(y_test)  # Original price values\n",
    "baseline_predictions_original = np.exp(baseline_predictions)\n",
    "\n",
    "baseline_mse = mean_squared_error(y_test_original, baseline_predictions_original)\n"
   ]
  },
  {
   "cell_type": "code",
   "execution_count": 114,
   "id": "c14f33d2",
   "metadata": {},
   "outputs": [
    {
     "data": {
      "text/plain": [
       "1617.4032896312297"
      ]
     },
     "execution_count": 114,
     "metadata": {},
     "output_type": "execute_result"
    }
   ],
   "source": [
    "baseline_mse"
   ]
  },
  {
   "cell_type": "markdown",
   "id": "09b1aa51",
   "metadata": {},
   "source": [
    "### MLR model with stepwise feature selection using AIC/BIC"
   ]
  },
  {
   "cell_type": "code",
   "execution_count": 116,
   "id": "909e7ab2",
   "metadata": {},
   "outputs": [
    {
     "name": "stdout",
     "output_type": "stream",
     "text": [
      "Selected Features (AIC): []\n",
      "Final MLR Model Summary (AIC-based):\n",
      "                            OLS Regression Results                            \n",
      "==============================================================================\n",
      "Dep. Variable:              log_price   R-squared:                       0.000\n",
      "Model:                            OLS   Adj. R-squared:                  0.000\n",
      "Method:                 Least Squares   F-statistic:                       nan\n",
      "Date:                Fri, 25 Oct 2024   Prob (F-statistic):                nan\n",
      "Time:                        17:37:15   Log-Likelihood:                 2525.7\n",
      "No. Observations:               17383   AIC:                            -5049.\n",
      "Df Residuals:                   17382   BIC:                            -5042.\n",
      "Df Model:                           0                                         \n",
      "Covariance Type:            nonrobust                                         \n",
      "==============================================================================\n",
      "                 coef    std err          t      P>|t|      [0.025      0.975]\n",
      "------------------------------------------------------------------------------\n",
      "const          5.9604      0.002   3755.454      0.000       5.957       5.963\n",
      "==============================================================================\n",
      "Omnibus:                      101.868   Durbin-Watson:                   1.991\n",
      "Prob(Omnibus):                  0.000   Jarque-Bera (JB):               72.298\n",
      "Skew:                           0.019   Prob(JB):                     2.00e-16\n",
      "Kurtosis:                       2.686   Cond. No.                         1.00\n",
      "==============================================================================\n",
      "\n",
      "Notes:\n",
      "[1] Standard Errors assume that the covariance matrix of the errors is correctly specified.\n"
     ]
    }
   ],
   "source": [
    "# Stepwise Feature Selection (AIC/BIC)\n",
    "def stepwise_selection(X, y, criterion='aic'):\n",
    "    \"\"\"Perform a stepwise selection based on AIC or BIC.\"\"\"\n",
    "    X = sm.add_constant(X)  # Add constant for intercept\n",
    "    included = []           # Track included features\n",
    "    \n",
    "    while True:\n",
    "        changed = False\n",
    "        \n",
    "        # Forward step: try adding each feature\n",
    "        excluded = list(set(X.columns) - set(included) - {'const'})\n",
    "        new_aic_bic_scores = {}\n",
    "        \n",
    "        for new_column in excluded:\n",
    "            model = sm.OLS(y, X[included + [new_column]]).fit()\n",
    "            score = model.aic if criterion == 'aic' else model.bic\n",
    "            new_aic_bic_scores[new_column] = score\n",
    "            \n",
    "        best_new_feature = min(new_aic_bic_scores, key=new_aic_bic_scores.get, default=None)\n",
    "        best_score_with_new = new_aic_bic_scores.get(best_new_feature, float('inf'))\n",
    "        \n",
    "        # Backward step: try removing each feature\n",
    "        aic_bic_scores_without = {}\n",
    "        \n",
    "        for column in included:\n",
    "            model = sm.OLS(y, X[[col for col in included if col != column] + ['const']]).fit()\n",
    "            score = model.aic if criterion == 'aic' else model.bic\n",
    "            aic_bic_scores_without[column] = score\n",
    "        \n",
    "        best_remove_feature = min(aic_bic_scores_without, key=aic_bic_scores_without.get, default=None)\n",
    "        best_score_without = aic_bic_scores_without.get(best_remove_feature, float('inf'))\n",
    "        \n",
    "        # Compare scores to add or remove\n",
    "        if best_score_with_new < baseline_model.aic if criterion == 'aic' else baseline_model.bic:\n",
    "            included.append(best_new_feature)\n",
    "            changed = True\n",
    "        elif best_score_without < baseline_model.aic if criterion == 'aic' else baseline_model.bic:\n",
    "            included.remove(best_remove_feature)\n",
    "            changed = True\n",
    "        \n",
    "        if not changed:\n",
    "            break\n",
    "            \n",
    "    return included\n",
    "\n",
    "# Apply Stepwise Selection\n",
    "selected_features_aic = stepwise_selection(X_train, y_train, criterion='aic')\n",
    "#selected_features_bic = stepwise_selection(X_train, y_train, criterion='bic')\n",
    "\n",
    "print(\"Selected Features (AIC):\", selected_features_aic)\n",
    "#print(\"Selected Features (BIC):\", selected_features_bic)\n",
    "\n",
    "# Fit the final models using selected features\n",
    "X_train_aic = sm.add_constant(X_train[selected_features_aic])\n",
    "#X_train_bic = sm.add_constant(X_train[selected_features_bic])\n",
    "\n",
    "final_model_aic = sm.OLS(y_train, X_train_aic).fit()\n",
    "#final_model_bic = sm.OLS(y_train, X_train_bic).fit()\n",
    "\n",
    "print(\"Final MLR Model Summary (AIC-based):\")\n",
    "print(final_model_aic.summary())\n",
    "#print(\"Final MLR Model Summary (BIC-based):\")\n",
    "#print(final_model_bic.summary())"
   ]
  },
  {
   "cell_type": "code",
   "execution_count": 117,
   "id": "2655f0d8",
   "metadata": {},
   "outputs": [
    {
     "name": "stderr",
     "output_type": "stream",
     "text": [
      "/Users/yuht/opt/anaconda3/lib/python3.9/site-packages/statsmodels/tsa/tsatools.py:142: FutureWarning: In a future version of pandas all arguments of concat except for the argument 'objs' will be keyword-only\n",
      "  x = pd.concat(x[::order], 1)\n"
     ]
    }
   ],
   "source": [
    "# AIC-selected Model Prediction and MSE Calculation\n",
    "X_test_aic = sm.add_constant(X_test[selected_features_aic])\n",
    "aic_predictions = final_model_aic.predict(X_test_aic)\n",
    "y_test_original = np.exp(y_test)  # Original price values\n",
    "aic_predictions_original = np.exp(aic_predictions)\n",
    "\n",
    "aic_mse = mean_squared_error(y_test_original, aic_predictions_original)\n",
    "\n",
    "# # BIC-selected Model Prediction and MSE Calculation\n",
    "# X_test_bic = sm.add_constant(X_test[selected_features_bic])\n",
    "# bic_predictions = final_model_bic.predict(X_test_bic)\n",
    "# y_test_original = np.exp(y_test)  # Original price values\n",
    "# bic_predictions_original = np.exp(bic_predictions)\n",
    "\n",
    "# bic_mse = mean_squared_error(y_test_original, bic_predictions_original)\n"
   ]
  },
  {
   "cell_type": "code",
   "execution_count": 118,
   "id": "46173a29",
   "metadata": {},
   "outputs": [
    {
     "data": {
      "text/plain": [
       "7097.400866234972"
      ]
     },
     "execution_count": 118,
     "metadata": {},
     "output_type": "execute_result"
    }
   ],
   "source": [
    "aic_mse"
   ]
  },
  {
   "cell_type": "code",
   "execution_count": null,
   "id": "f78c3783",
   "metadata": {},
   "outputs": [],
   "source": [
    "#AIC is calculated based on the log-transformed target (log_price), it’s likely producing a high initial AIC value due to the smaller scale of the target, leading the model to not add any features. This smaller scale means that even minor additions in complexity may not appear to improve the AIC significantly enough for any features to be selected."
   ]
  },
  {
   "cell_type": "code",
   "execution_count": null,
   "id": "6c6ee15e",
   "metadata": {},
   "outputs": [],
   "source": [
    "#consider other global methods such as LASSO for feature selection"
   ]
  },
  {
   "cell_type": "markdown",
   "id": "27e3f3f7",
   "metadata": {},
   "source": [
    "## Tree models"
   ]
  },
  {
   "cell_type": "markdown",
   "id": "9233accb",
   "metadata": {},
   "source": [
    "### RF"
   ]
  },
  {
   "cell_type": "code",
   "execution_count": 54,
   "id": "f566d0a3",
   "metadata": {},
   "outputs": [],
   "source": [
    "# Set up the parameter grid for Random Forest\n",
    "rf_param_grid = {\n",
    "    'n_estimators': [50, 100, 200],\n",
    "    'max_depth': [10, 20, None],\n",
    "    'min_samples_split': [2, 10]\n",
    "}\n",
    "#5 fold cv\n",
    "rf_grid_search = GridSearchCV(estimator=RandomForestRegressor(random_state=42),\n",
    "                              param_grid=rf_param_grid, cv=5, scoring='neg_mean_squared_error', n_jobs=-1)\n"
   ]
  },
  {
   "cell_type": "code",
   "execution_count": 56,
   "id": "64111702",
   "metadata": {},
   "outputs": [
    {
     "name": "stderr",
     "output_type": "stream",
     "text": [
      "/Users/yuht/opt/anaconda3/lib/python3.9/site-packages/joblib/externals/loky/process_executor.py:702: UserWarning: A worker stopped while some jobs were given to the executor. This can be caused by a too short worker timeout or by a memory leak.\n",
      "  warnings.warn(\n"
     ]
    }
   ],
   "source": [
    "# Fit the model with cross-validation\n",
    "rf_grid_search.fit(X_train, y_train)\n",
    "\n",
    "# Best Random Forest Model\n",
    "best_rf_model = rf_grid_search.best_estimator_\n",
    "\n",
    "# Make predictions with the best Random Forest model\n",
    "rf_predictions = best_rf_model.predict(X_test)\n",
    "\n",
    "y_test_original = np.exp(y_test)  # Original price values\n",
    "rf_predictions_original = np.exp(rf_predictions)  # RF predictions on original scale\n",
    "\n",
    "rf_mse = mean_squared_error(y_test_original, rf_predictions_original)"
   ]
  },
  {
   "cell_type": "code",
   "execution_count": 58,
   "id": "a0b81811",
   "metadata": {},
   "outputs": [
    {
     "data": {
      "text/plain": [
       "1118.4143873881235"
      ]
     },
     "execution_count": 58,
     "metadata": {},
     "output_type": "execute_result"
    }
   ],
   "source": [
    "rf_mse"
   ]
  },
  {
   "cell_type": "code",
   "execution_count": 135,
   "id": "e30f89f6",
   "metadata": {},
   "outputs": [
    {
     "data": {
      "text/plain": [
       "RandomForestRegressor(min_samples_split=10, n_estimators=200, random_state=42)"
      ]
     },
     "execution_count": 135,
     "metadata": {},
     "output_type": "execute_result"
    }
   ],
   "source": [
    "best_rf_model"
   ]
  },
  {
   "cell_type": "code",
   "execution_count": 137,
   "id": "32e04488",
   "metadata": {},
   "outputs": [
    {
     "name": "stdout",
     "output_type": "stream",
     "text": [
      "Fitting 3 folds for each of 3 candidates, totalling 9 fits\n"
     ]
    }
   ],
   "source": [
    "#feature select with grid search cv\n",
    "# Define pipeline with feature selection and Random Forest\n",
    "pipeline = Pipeline([\n",
    "    ('feature_selection', SelectFromModel(RandomForestRegressor(n_estimators=100, random_state=42))),\n",
    "    ('rf', RandomForestRegressor(random_state=42))\n",
    "])\n",
    "\n",
    "# Define the parameter grid\n",
    "param_grid = {\n",
    "    'feature_selection__threshold': ['mean', 'median', 0.01],  # Adjust feature importance threshold\n",
    "    'rf__n_estimators': [200],\n",
    "    'rf__max_depth':  [None],\n",
    "    'rf__min_samples_split': [10]\n",
    "}\n",
    "\n",
    "# Set up GridSearchCV with cross-validation on the pipeline\n",
    "grid_search = GridSearchCV(estimator=pipeline,\n",
    "                           param_grid=param_grid,\n",
    "                           cv=3,\n",
    "                           scoring='neg_mean_squared_error',\n",
    "                           n_jobs=-1,\n",
    "                           verbose=1)\n",
    "\n",
    "# Fit the grid search\n",
    "grid_search.fit(X_train, y_train)\n",
    "\n",
    "# Retrieve the best model and evaluate on the test set\n",
    "best_selected_rf_model = grid_search.best_estimator_\n",
    "rf_selected_predictions = best_selected_rf_model.predict(X_test)\n",
    "y_test_original = np.exp(y_test)  # Original price values\n",
    "rf_selected_predictions_original = np.exp(rf_selected_predictions)  # RF predictions on original scale\n",
    "\n",
    "rf_selected_mse = mean_squared_error(y_test_original, rf_selected_predictions_original)\n"
   ]
  },
  {
   "cell_type": "code",
   "execution_count": 139,
   "id": "e59a31e3",
   "metadata": {},
   "outputs": [
    {
     "data": {
      "text/plain": [
       "1117.9916730642026"
      ]
     },
     "execution_count": 139,
     "metadata": {},
     "output_type": "execute_result"
    }
   ],
   "source": [
    "rf_selected_mse"
   ]
  },
  {
   "cell_type": "markdown",
   "id": "07088879",
   "metadata": {},
   "source": [
    "### XGBoost"
   ]
  },
  {
   "cell_type": "code",
   "execution_count": 59,
   "id": "36463068",
   "metadata": {},
   "outputs": [
    {
     "name": "stderr",
     "output_type": "stream",
     "text": [
      "/Users/yuht/opt/anaconda3/lib/python3.9/site-packages/joblib/externals/loky/process_executor.py:702: UserWarning: A worker stopped while some jobs were given to the executor. This can be caused by a too short worker timeout or by a memory leak.\n",
      "  warnings.warn(\n"
     ]
    }
   ],
   "source": [
    "# Set up the parameter grid for XGBoost\n",
    "xgb_param_grid = {\n",
    "    'n_estimators': [50, 100, 200],\n",
    "    'max_depth': [3, 6, 10],\n",
    "    'learning_rate': [0.01, 0.1, 0.2]\n",
    "}\n",
    "\n",
    "# Set up the GridSearchCV for XGBoost\n",
    "xgb_grid_search = GridSearchCV(estimator=XGBRegressor(random_state=42),\n",
    "                               param_grid=xgb_param_grid, cv=5, scoring='neg_mean_squared_error', n_jobs=-1)\n",
    "\n",
    "# Fit the model with cross-validation\n",
    "xgb_grid_search.fit(X_train, y_train)\n",
    "\n",
    "# Best XGBoost Model\n",
    "best_xgb_model = xgb_grid_search.best_estimator_\n",
    "\n",
    "# Make predictions with the best XGBoost model\n",
    "xgb_predictions = best_xgb_model.predict(X_test)\n",
    "\n",
    "y_test_original = np.exp(y_test)  # Original price values\n",
    "xgb_predictions_original = np.exp(xgb_predictions)\n",
    "\n",
    "xgb_mse = mean_squared_error(y_test_original, xgb_predictions_original)"
   ]
  },
  {
   "cell_type": "code",
   "execution_count": 60,
   "id": "f51c752b",
   "metadata": {},
   "outputs": [
    {
     "data": {
      "text/plain": [
       "1064.3567202013887"
      ]
     },
     "execution_count": 60,
     "metadata": {},
     "output_type": "execute_result"
    }
   ],
   "source": [
    "xgb_mse"
   ]
  },
  {
   "cell_type": "code",
   "execution_count": 140,
   "id": "d3eb6905",
   "metadata": {},
   "outputs": [
    {
     "data": {
      "text/plain": [
       "XGBRegressor(base_score=None, booster=None, callbacks=None,\n",
       "             colsample_bylevel=None, colsample_bynode=None,\n",
       "             colsample_bytree=None, device=None, early_stopping_rounds=None,\n",
       "             enable_categorical=False, eval_metric=None, feature_types=None,\n",
       "             gamma=None, grow_policy=None, importance_type=None,\n",
       "             interaction_constraints=None, learning_rate=0.2, max_bin=None,\n",
       "             max_cat_threshold=None, max_cat_to_onehot=None,\n",
       "             max_delta_step=None, max_depth=6, max_leaves=None,\n",
       "             min_child_weight=None, missing=nan, monotone_constraints=None,\n",
       "             multi_strategy=None, n_estimators=200, n_jobs=None,\n",
       "             num_parallel_tree=None, random_state=42, ...)"
      ]
     },
     "execution_count": 140,
     "metadata": {},
     "output_type": "execute_result"
    }
   ],
   "source": [
    "best_xgb_model"
   ]
  },
  {
   "cell_type": "code",
   "execution_count": 143,
   "id": "f352f834",
   "metadata": {},
   "outputs": [
    {
     "name": "stdout",
     "output_type": "stream",
     "text": [
      "Fitting 5 folds for each of 3 candidates, totalling 15 fits\n"
     ]
    }
   ],
   "source": [
    "#feature selection with grid search cv to optimize\n",
    "pipeline = Pipeline([\n",
    "    ('feature_selection', SelectFromModel(XGBRegressor(n_estimators=100, random_state=42))),\n",
    "    ('xgb', XGBRegressor(random_state=42))\n",
    "])\n",
    "\n",
    "# Define the parameter grid\n",
    "param_grid = {\n",
    "    'feature_selection__threshold': ['mean', 'median', 0.01],  # Thresholds for feature selection\n",
    "    'xgb__n_estimators': [200],\n",
    "    'xgb__max_depth': [6],\n",
    "    'xgb__learning_rate': [0.2]\n",
    "}\n",
    "\n",
    "# Set up GridSearchCV with cross-validation on the pipeline\n",
    "grid_search = GridSearchCV(estimator=pipeline,\n",
    "                           param_grid=param_grid,\n",
    "                           cv=5,\n",
    "                           scoring='neg_mean_squared_error',\n",
    "                           n_jobs=-1,\n",
    "                           verbose=1)\n",
    "\n",
    "# Fit the grid search\n",
    "grid_search.fit(X_train, y_train)\n",
    "\n",
    "# Retrieve the best model and evaluate on the test set\n",
    "best_selected_xgb_model = grid_search.best_estimator_\n",
    "xgb_selected_predictions = best_selected_xgb_model.predict(X_test)\n",
    "y_test_original = np.exp(y_test)  # Original price values\n",
    "xgb_selected_predictions_original = np.exp(xgb_selected_predictions)\n",
    "\n",
    "xgb_selected_mse = mean_squared_error(y_test_original, xgb_selected_predictions_original)"
   ]
  },
  {
   "cell_type": "code",
   "execution_count": 144,
   "id": "abbcc525",
   "metadata": {},
   "outputs": [
    {
     "data": {
      "text/plain": [
       "1044.145553922678"
      ]
     },
     "execution_count": 144,
     "metadata": {},
     "output_type": "execute_result"
    }
   ],
   "source": [
    "xgb_selected_mse"
   ]
  },
  {
   "cell_type": "markdown",
   "id": "be38bfef",
   "metadata": {},
   "source": [
    "### Adaboost"
   ]
  },
  {
   "cell_type": "code",
   "execution_count": 155,
   "id": "ceac9d43",
   "metadata": {},
   "outputs": [
    {
     "name": "stderr",
     "output_type": "stream",
     "text": [
      "/Users/yuht/opt/anaconda3/lib/python3.9/site-packages/joblib/externals/loky/process_executor.py:702: UserWarning: A worker stopped while some jobs were given to the executor. This can be caused by a too short worker timeout or by a memory leak.\n",
      "  warnings.warn(\n"
     ]
    }
   ],
   "source": [
    "ada_param_grid = {\n",
    "    'n_estimators': [50, 100, 200],\n",
    "    'learning_rate': [0.01, 0.1, 1]\n",
    "}\n",
    "\n",
    "# Set up the GridSearchCV for AdaBoost\n",
    "ada_grid_search = GridSearchCV(estimator=AdaBoostRegressor(random_state=42),\n",
    "                               param_grid=ada_param_grid, cv=5, scoring='neg_mean_squared_error', n_jobs=-1)\n",
    "\n",
    "# Fit the model with cross-validation\n",
    "ada_grid_search.fit(X_train, y_train)\n",
    "\n",
    "# Best AdaBoost Model\n",
    "best_ada_model = ada_grid_search.best_estimator_\n",
    "\n",
    "# Make predictions with the best AdaBoost model\n",
    "ada_predictions = best_ada_model.predict(X_test)\n",
    "\n",
    "y_test_original = np.exp(y_test)  # Original price values\n",
    "ada_predictions_original = np.exp(xgb_predictions)\n",
    "\n",
    "ada_mse = mean_squared_error(y_test_original, ada_predictions_original)"
   ]
  },
  {
   "cell_type": "code",
   "execution_count": 158,
   "id": "a8e87b5e",
   "metadata": {},
   "outputs": [
    {
     "data": {
      "text/plain": [
       "1064.3567202013887"
      ]
     },
     "execution_count": 158,
     "metadata": {},
     "output_type": "execute_result"
    }
   ],
   "source": [
    "ada_mse"
   ]
  },
  {
   "cell_type": "code",
   "execution_count": 145,
   "id": "8546f511",
   "metadata": {},
   "outputs": [
    {
     "data": {
      "text/plain": [
       "AdaBoostRegressor(learning_rate=0.1, n_estimators=100, random_state=42)"
      ]
     },
     "execution_count": 145,
     "metadata": {},
     "output_type": "execute_result"
    }
   ],
   "source": [
    "best_ada_model"
   ]
  },
  {
   "cell_type": "code",
   "execution_count": 153,
   "id": "eb1efbaf",
   "metadata": {},
   "outputs": [
    {
     "name": "stdout",
     "output_type": "stream",
     "text": [
      "Fitting 5 folds for each of 3 candidates, totalling 15 fits\n"
     ]
    }
   ],
   "source": [
    "#feature selection with hyperparameter tuning\n",
    "pipeline = Pipeline([\n",
    "    ('feature_selection', SelectFromModel(XGBRegressor(n_estimators=100,random_state=42))),  # Use RF to select features\n",
    "    ('ada', AdaBoostRegressor(random_state=42))\n",
    "])\n",
    "\n",
    "# Define the parameter grid\n",
    "param_grid = {\n",
    "    'feature_selection__threshold': ['mean', 'median', 0.01],  # Thresholds for feature selection\n",
    "    'ada__n_estimators': [100],\n",
    "    'ada__learning_rate': [0.1]\n",
    "}\n",
    "\n",
    "# Set up GridSearchCV with cross-validation on the pipeline\n",
    "grid_search = GridSearchCV(estimator=pipeline,\n",
    "                           param_grid=param_grid,\n",
    "                           cv=5,\n",
    "                           scoring='neg_mean_squared_error',\n",
    "                           n_jobs=-1,\n",
    "                           verbose=1)\n",
    "\n",
    "# Fit the grid search\n",
    "grid_search.fit(X_train, y_train)\n",
    "\n",
    "# Retrieve the best model and evaluate on the test set\n",
    "best_selected_ada_model = grid_search.best_estimator_\n",
    "ada_selected_predictions = best_selected_ada_model.predict(X_test)\n",
    "\n",
    "y_test_original = np.exp(y_test)  # Original price values\n",
    "ada_selected_predictions_original = np.exp(ada_selected_predictions)\n",
    "\n",
    "ada_selected_mse = mean_squared_error(y_test_original, ada_selected_predictions_original)"
   ]
  },
  {
   "cell_type": "code",
   "execution_count": 154,
   "id": "574da42c",
   "metadata": {},
   "outputs": [
    {
     "data": {
      "text/plain": [
       "2770.238288243517"
      ]
     },
     "execution_count": 154,
     "metadata": {},
     "output_type": "execute_result"
    }
   ],
   "source": [
    "ada_selected_mse"
   ]
  },
  {
   "cell_type": "markdown",
   "id": "4638e2ec",
   "metadata": {},
   "source": [
    "## Ensemble"
   ]
  },
  {
   "cell_type": "markdown",
   "id": "11bc48c5",
   "metadata": {},
   "source": [
    "### Stacking"
   ]
  },
  {
   "cell_type": "code",
   "execution_count": 163,
   "id": "ba9ab7b6",
   "metadata": {},
   "outputs": [
    {
     "data": {
      "text/plain": [
       "XGBRegressor(base_score=None, booster=None, callbacks=None,\n",
       "             colsample_bylevel=None, colsample_bynode=None,\n",
       "             colsample_bytree=None, device=None, early_stopping_rounds=None,\n",
       "             enable_categorical=False, eval_metric=None, feature_types=None,\n",
       "             gamma=None, grow_policy=None, importance_type=None,\n",
       "             interaction_constraints=None, learning_rate=0.2, max_bin=None,\n",
       "             max_cat_threshold=None, max_cat_to_onehot=None,\n",
       "             max_delta_step=None, max_depth=6, max_leaves=None,\n",
       "             min_child_weight=None, missing=nan, monotone_constraints=None,\n",
       "             multi_strategy=None, n_estimators=200, n_jobs=None,\n",
       "             num_parallel_tree=None, random_state=42, ...)"
      ]
     },
     "execution_count": 163,
     "metadata": {},
     "output_type": "execute_result"
    }
   ],
   "source": [
    "best_xgb_model"
   ]
  },
  {
   "cell_type": "code",
   "execution_count": 164,
   "id": "8a112ea1",
   "metadata": {},
   "outputs": [
    {
     "data": {
      "text/plain": [
       "RandomForestRegressor(min_samples_split=10, n_estimators=200, random_state=42)"
      ]
     },
     "execution_count": 164,
     "metadata": {},
     "output_type": "execute_result"
    }
   ],
   "source": [
    "best_rf_model"
   ]
  },
  {
   "cell_type": "code",
   "execution_count": 165,
   "id": "79198edb",
   "metadata": {},
   "outputs": [
    {
     "data": {
      "text/plain": [
       "AdaBoostRegressor(learning_rate=0.1, n_estimators=100, random_state=42)"
      ]
     },
     "execution_count": 165,
     "metadata": {},
     "output_type": "execute_result"
    }
   ],
   "source": [
    "best_ada_model"
   ]
  },
  {
   "cell_type": "code",
   "execution_count": 169,
   "id": "447da58f",
   "metadata": {},
   "outputs": [],
   "source": [
    "base_models = [\n",
    "    ('rf', RandomForestRegressor(n_estimators=200,min_samples_split=10, random_state=42)),\n",
    "    ('xgb', XGBRegressor(n_estimators=200,max_depth=6,learning_rate=0.2, random_state=42)),\n",
    "    ('ada', AdaBoostRegressor(n_estimators=100,learning_rate=0.1, random_state=42))\n",
    "]\n",
    "\n",
    "# Define the meta-model\n",
    "meta_model = LinearRegression()\n",
    "\n",
    "# Create the stacking model\n",
    "stacking_model = StackingRegressor(estimators=base_models, final_estimator=meta_model, cv=5)\n",
    "\n",
    "# Train the stacking model\n",
    "stacking_model.fit(X_train, y_train)\n",
    "\n",
    "stacking_predictions = stacking_model.predict(X_test)\n",
    "y_test_original = np.exp(y_test)  # Original price values\n",
    "stacking_predictions_original = np.exp(stacking_predictions)\n",
    "\n",
    "stacking_mse = mean_squared_error(y_test_original, stacking_predictions_original)"
   ]
  },
  {
   "cell_type": "code",
   "execution_count": 170,
   "id": "c41b1f7b",
   "metadata": {},
   "outputs": [
    {
     "data": {
      "text/plain": [
       "1034.9332518187186"
      ]
     },
     "execution_count": 170,
     "metadata": {},
     "output_type": "execute_result"
    }
   ],
   "source": [
    "stacking_mse"
   ]
  },
  {
   "cell_type": "markdown",
   "id": "2fedf450",
   "metadata": {},
   "source": [
    "### Blending"
   ]
  },
  {
   "cell_type": "code",
   "execution_count": 176,
   "id": "1ae54f94",
   "metadata": {},
   "outputs": [],
   "source": [
    "rf_model = RandomForestRegressor(n_estimators=200,min_samples_split=10, random_state=42)\n",
    "xgb_model = XGBRegressor(n_estimators=200,max_depth=6,learning_rate=0.2, random_state=42)\n",
    "ada_model = AdaBoostRegressor(n_estimators=100,learning_rate=0.1, random_state=42)\n",
    "\n",
    "rf_model.fit(X_train, y_train)\n",
    "xgb_model.fit(X_train, y_train)\n",
    "ada_model.fit(X_train, y_train)\n",
    "\n",
    "# Get predictions from each model\n",
    "rf_predictions = rf_model.predict(X_test)\n",
    "xgb_predictions = xgb_model.predict(X_test)\n",
    "ada_predictions = ada_model.predict(X_test)\n",
    "\n",
    "# Simple average blending\n",
    "blending_predictions = (rf_predictions + xgb_predictions + ada_predictions) / 3\n",
    "\n",
    "y_test_original = np.exp(y_test)  # Original price values\n",
    "blending_predictions_original = np.exp(blending_predictions)\n",
    "\n",
    "blending_mse = mean_squared_error(y_test_original, blending_predictions_original)"
   ]
  },
  {
   "cell_type": "code",
   "execution_count": 177,
   "id": "0261b643",
   "metadata": {},
   "outputs": [
    {
     "data": {
      "text/plain": [
       "1269.1948557494186"
      ]
     },
     "execution_count": 177,
     "metadata": {},
     "output_type": "execute_result"
    }
   ],
   "source": [
    "blending_mse"
   ]
  },
  {
   "cell_type": "code",
   "execution_count": 183,
   "id": "30ca97b6",
   "metadata": {},
   "outputs": [
    {
     "data": {
      "text/html": [
       "<div>\n",
       "<style scoped>\n",
       "    .dataframe tbody tr th:only-of-type {\n",
       "        vertical-align: middle;\n",
       "    }\n",
       "\n",
       "    .dataframe tbody tr th {\n",
       "        vertical-align: top;\n",
       "    }\n",
       "\n",
       "    .dataframe thead th {\n",
       "        text-align: right;\n",
       "    }\n",
       "</style>\n",
       "<table border=\"1\" class=\"dataframe\">\n",
       "  <thead>\n",
       "    <tr style=\"text-align: right;\">\n",
       "      <th></th>\n",
       "      <th>Model</th>\n",
       "      <th>Description</th>\n",
       "      <th>MSE</th>\n",
       "    </tr>\n",
       "  </thead>\n",
       "  <tbody>\n",
       "    <tr>\n",
       "      <th>6</th>\n",
       "      <td>Optimized Stacking</td>\n",
       "      <td>RF + XGBoost + Adaboost</td>\n",
       "      <td>1034.933252</td>\n",
       "    </tr>\n",
       "    <tr>\n",
       "      <th>4</th>\n",
       "      <td>XGBoost with Feature Selection</td>\n",
       "      <td>XGBoost + SelectFromModel + GridSearchCV</td>\n",
       "      <td>1044.145554</td>\n",
       "    </tr>\n",
       "    <tr>\n",
       "      <th>3</th>\n",
       "      <td>Optimized XGBoost</td>\n",
       "      <td>XGBoost with GridSearchCV</td>\n",
       "      <td>1064.356720</td>\n",
       "    </tr>\n",
       "    <tr>\n",
       "      <th>5</th>\n",
       "      <td>Optimized AdaBoost</td>\n",
       "      <td>AdaBoost with GridSearchCV</td>\n",
       "      <td>1064.356720</td>\n",
       "    </tr>\n",
       "    <tr>\n",
       "      <th>2</th>\n",
       "      <td>RF with Feature Selection</td>\n",
       "      <td>RF + SelectFromModel + GridSearchCV</td>\n",
       "      <td>1117.991673</td>\n",
       "    </tr>\n",
       "    <tr>\n",
       "      <th>1</th>\n",
       "      <td>Optimized Random Forest</td>\n",
       "      <td>RF with GridSearchCV</td>\n",
       "      <td>1118.414387</td>\n",
       "    </tr>\n",
       "    <tr>\n",
       "      <th>7</th>\n",
       "      <td>Optimized Blending</td>\n",
       "      <td>(RF + XGBoost + Adaboost) Predictions / 3</td>\n",
       "      <td>1269.194856</td>\n",
       "    </tr>\n",
       "    <tr>\n",
       "      <th>0</th>\n",
       "      <td>Baseline multiple linear regression</td>\n",
       "      <td>MLR with all features</td>\n",
       "      <td>1617.403290</td>\n",
       "    </tr>\n",
       "  </tbody>\n",
       "</table>\n",
       "</div>"
      ],
      "text/plain": [
       "                                 Model  \\\n",
       "6                   Optimized Stacking   \n",
       "4       XGBoost with Feature Selection   \n",
       "3                    Optimized XGBoost   \n",
       "5                   Optimized AdaBoost   \n",
       "2            RF with Feature Selection   \n",
       "1              Optimized Random Forest   \n",
       "7                   Optimized Blending   \n",
       "0  Baseline multiple linear regression   \n",
       "\n",
       "                                 Description          MSE  \n",
       "6                    RF + XGBoost + Adaboost  1034.933252  \n",
       "4   XGBoost + SelectFromModel + GridSearchCV  1044.145554  \n",
       "3                  XGBoost with GridSearchCV  1064.356720  \n",
       "5                 AdaBoost with GridSearchCV  1064.356720  \n",
       "2        RF + SelectFromModel + GridSearchCV  1117.991673  \n",
       "1                       RF with GridSearchCV  1118.414387  \n",
       "7  (RF + XGBoost + Adaboost) Predictions / 3  1269.194856  \n",
       "0                      MLR with all features  1617.403290  "
      ]
     },
     "execution_count": 183,
     "metadata": {},
     "output_type": "execute_result"
    }
   ],
   "source": [
    "results = [\n",
    "    {'Model': 'Baseline multiple linear regression', 'Description': 'MLR with all features', 'MSE': baseline_mse},\n",
    "    {'Model': 'Optimized Random Forest', 'Description': 'RF with GridSearchCV', 'MSE': rf_mse},\n",
    "    {'Model': 'RF with Feature Selection', 'Description': 'RF + SelectFromModel + GridSearchCV', 'MSE': rf_selected_mse},\n",
    "    {'Model': 'Optimized XGBoost', 'Description': 'XGBoost with GridSearchCV', 'MSE': xgb_mse},\n",
    "    {'Model': 'XGBoost with Feature Selection', 'Description': 'XGBoost + SelectFromModel + GridSearchCV', 'MSE': xgb_selected_mse},\n",
    "    {'Model': 'Optimized AdaBoost', 'Description': 'AdaBoost with GridSearchCV', 'MSE': ada_mse},\n",
    "    {'Model': 'Optimized Stacking', 'Description': 'RF + XGBoost + Adaboost', 'MSE': stacking_mse},\n",
    "    {'Model': 'Optimized Blending', 'Description': '(RF + XGBoost + Adaboost) Predictions / 3', 'MSE': blending_mse}\n",
    "]\n",
    "\n",
    "# Convert results into a DataFrame\n",
    "results_df = pd.DataFrame(results)\n",
    "results_df.sort_values('MSE')"
   ]
  },
  {
   "cell_type": "code",
   "execution_count": null,
   "id": "a87258d7",
   "metadata": {},
   "outputs": [],
   "source": []
  }
 ],
 "metadata": {
  "kernelspec": {
   "display_name": "Python 3 (ipykernel)",
   "language": "python",
   "name": "python3"
  },
  "language_info": {
   "codemirror_mode": {
    "name": "ipython",
    "version": 3
   },
   "file_extension": ".py",
   "mimetype": "text/x-python",
   "name": "python",
   "nbconvert_exporter": "python",
   "pygments_lexer": "ipython3",
   "version": "3.9.7"
  }
 },
 "nbformat": 4,
 "nbformat_minor": 5
}
